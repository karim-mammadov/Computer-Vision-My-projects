{
  "nbformat": 4,
  "nbformat_minor": 0,
  "metadata": {
    "colab": {
      "provenance": [],
      "gpuType": "T4",
      "authorship_tag": "ABX9TyMGaGgwk+rC2feGH++vThpT",
      "include_colab_link": true
    },
    "kernelspec": {
      "name": "python3",
      "display_name": "Python 3"
    },
    "language_info": {
      "name": "python"
    },
    "accelerator": "GPU"
  },
  "cells": [
    {
      "cell_type": "markdown",
      "metadata": {
        "id": "view-in-github",
        "colab_type": "text"
      },
      "source": [
        "<a href=\"https://colab.research.google.com/github/karim-mammadov/Computer-Vision-My-projects/blob/main/Dog_Breeds_Image_Dataset.ipynb\" target=\"_parent\"><img src=\"https://colab.research.google.com/assets/colab-badge.svg\" alt=\"Open In Colab\"/></a>"
      ]
    },
    {
      "cell_type": "code",
      "execution_count": null,
      "metadata": {
        "id": "2Zuu3l2nkijl"
      },
      "outputs": [],
      "source": [
        "from google.colab import files\n",
        "files.upload()"
      ]
    },
    {
      "cell_type": "code",
      "source": [
        "!mkdir -p ~/.kaggle\n",
        "!cp kaggle.json ~/.kaggle/\n",
        "!chmod 600 ~/.kaggle/kaggle.json"
      ],
      "metadata": {
        "id": "5P4q9H6akyUw"
      },
      "execution_count": null,
      "outputs": []
    },
    {
      "cell_type": "code",
      "source": [
        "!kaggle datasets download darshanthakare/dog-breeds-image-dataset"
      ],
      "metadata": {
        "id": "OYBMeZxBlIdC"
      },
      "execution_count": null,
      "outputs": []
    },
    {
      "cell_type": "code",
      "source": [
        "import zipfile"
      ],
      "metadata": {
        "id": "1pQTb5-JlSE9"
      },
      "execution_count": null,
      "outputs": []
    },
    {
      "cell_type": "code",
      "source": [
        "with zipfile.ZipFile('/content/dog-breeds-image-dataset.zip','r') as zip_ref:\n",
        "  zip_ref.extractall('/content')"
      ],
      "metadata": {
        "id": "uM_CuCKflT84"
      },
      "execution_count": null,
      "outputs": []
    },
    {
      "cell_type": "code",
      "source": [
        "from PIL import Image\n",
        "import os\n",
        "\n",
        "allowed_extensions = ['.jpg', '.jpeg', '.png']\n",
        "\n",
        "for root, dirs, files in os.walk(data_path):\n",
        "    for file in files:\n",
        "        file_lower = file.lower()\n",
        "        if not any(file_lower.endswith(ext) for ext in allowed_extensions):\n",
        "            img_path = os.path.join(root, file)\n",
        "            try:\n",
        "                # Attempt to open and save as jpg if possible, otherwise remove\n",
        "                img = Image.open(img_path).convert('RGB')\n",
        "                new_path = os.path.splitext(img_path)[0] + '.jpg'\n",
        "                img.save(new_path, 'JPEG')\n",
        "                os.remove(img_path)\n",
        "            except Exception as e:\n",
        "                # If conversion fails or it's not an image, just remove the problematic file\n",
        "                print(f\"Could not process or convert file {img_path}: {e}\")\n",
        "                os.remove(img_path)"
      ],
      "metadata": {
        "id": "BOJH7GSfvi_b"
      },
      "execution_count": null,
      "outputs": []
    },
    {
      "cell_type": "code",
      "source": [
        "data_path = \"/content/Dog Breeds Image Dataset\""
      ],
      "metadata": {
        "id": "0TQ5vn8Nujvx"
      },
      "execution_count": null,
      "outputs": []
    },
    {
      "cell_type": "code",
      "source": [
        "from tensorflow.keras.preprocessing.image import ImageDataGenerator\n",
        "from tensorflow.keras.applications.resnet50 import preprocess_input # Assuming you might use a pre-trained model later, this is a common preprocessor\n",
        "\n",
        "# Define data generators with augmentation and validation split\n",
        "datagen = ImageDataGenerator(\n",
        "    preprocessing_function=preprocess_input, # Optional: Use a preprocessing function if needed (e.g., for pre-trained models)\n",
        "    validation_split=0.2,\n",
        "    horizontal_flip=True, # Example augmentation\n",
        "    rotation_range=20 # Example augmentation\n",
        ")\n",
        "\n",
        "# Create training and validation data generators\n",
        "train_generator = datagen.flow_from_directory(\n",
        "    data_path,\n",
        "    target_size=imgs_size, # Use imgs_size as defined before\n",
        "    batch_size=batch_size, # Use batch_size as defined before\n",
        "    class_mode='categorical', # Use 'categorical' for one-hot encoding, or 'sparse' for integer labels\n",
        "    subset='training',\n",
        "    shuffle=True\n",
        ")\n",
        "\n",
        "val_generator = datagen.flow_from_directory(\n",
        "    data_path,\n",
        "    target_size=imgs_size, # Use imgs_size as defined before\n",
        "    batch_size=batch_size, # Use batch_size as defined before\n",
        "    class_mode='categorical', # Use 'categorical' for one-hot encoding, or 'sparse' for integer labels\n",
        "    subset='validation',\n",
        "    shuffle=False\n",
        ")\n",
        "\n",
        "# Get the number of classes\n",
        "num_classes = train_generator.num_classes\n",
        "print(f\"✅ Detected {num_classes} classes\")"
      ],
      "metadata": {
        "id": "38IbTjTut900"
      },
      "execution_count": null,
      "outputs": []
    },
    {
      "cell_type": "code",
      "source": [
        "from tensorflow.keras.models import Sequential\n",
        "from tensorflow.keras.layers import Conv2D, MaxPooling2D, Flatten, Dense, Dropout\n",
        "from tensorflow.keras import regularizers\n",
        "import tensorflow as tf # Ensure tf is imported for tf.keras.layers.InputLayer\n",
        "\n",
        "\n",
        "model = Sequential([\n",
        "    tf.keras.layers.InputLayer(input_shape=(imgs_size[0], imgs_size[1], 3)), # Explicitly define input shape\n",
        "    tf.keras.layers.Rescaling(1./255),\n",
        "    tf.keras.layers.Conv2D(32, (3,3),strides=1,activation='relu', kernel_initializer='he_normal'),\n",
        "    tf.keras.layers.MaxPooling2D((2,2)),\n",
        "    tf.keras.layers.Conv2D(64, (3,3),strides=1,activation='relu', kernel_initializer='he_normal'),\n",
        "    tf.keras.layers.MaxPooling2D((2,2)),\n",
        "    tf.keras.layers.Conv2D(128, (3,3),strides=1,activation='relu', kernel_initializer='he_normal'),\n",
        "    tf.keras.layers.MaxPooling2D((2,2)),\n",
        "    tf.keras.layers.Conv2D(256, (3,3),strides=1,activation='relu', kernel_initializer='he_normal'),\n",
        "    tf.keras.layers.Flatten(),\n",
        "    tf.keras.layers.Dropout(0.2),\n",
        "    tf.keras.layers.Dense(256, activation='relu', kernel_initializer='he_normal', kernel_regularizer=regularizers.l2(0.001)),\n",
        "    tf.keras.layers.Dense(128, activation='relu', kernel_initializer='he_normal', kernel_regularizer=regularizers.l2(0.001)),\n",
        "    tf.keras.layers.Dense(64, activation='relu', kernel_initializer='he_normal', kernel_regularizer=regularizers.l2(0.001)),\n",
        "    tf.keras.layers.Dense(32, activation='relu', kernel_initializer='he_normal', kernel_regularizer=regularizers.l2(0.001)),\n",
        "    tf.keras.layers.Dense(num_classes, activation='softmax')\n",
        "\n",
        "])"
      ],
      "metadata": {
        "id": "g18TE0HKt-Mz"
      },
      "execution_count": null,
      "outputs": []
    },
    {
      "cell_type": "code",
      "source": [
        "model.compile(\n",
        "    loss=tf.keras.losses.CategoricalCrossentropy(),\n",
        "    optimizer=tf.keras.optimizers.Adam(learning_rate=0.001),\n",
        "    metrics=['accuracy']\n",
        ")"
      ],
      "metadata": {
        "id": "mKsSoxoEurws"
      },
      "execution_count": null,
      "outputs": []
    },
    {
      "cell_type": "code",
      "source": [
        "history = model.fit(\n",
        "    train_generator,\n",
        "    epochs=5,\n",
        "    validation_data=val_generator\n",
        ")"
      ],
      "metadata": {
        "id": "e-5HBaPDuvVy"
      },
      "execution_count": null,
      "outputs": []
    },
    {
      "cell_type": "code",
      "source": [
        "\n"
      ],
      "metadata": {
        "id": "T9cCFhaCvkk2"
      },
      "execution_count": null,
      "outputs": []
    },
    {
      "cell_type": "code",
      "metadata": {
        "id": "d7bc2585"
      },
      "source": [
        "from tensorflow.keras.preprocessing.image import ImageDataGenerator\n",
        "from tensorflow.keras.applications.resnet50 import preprocess_input # Assuming you might use a pre-trained model later, this is a common preprocessor\n",
        "\n",
        "# Define data generators with augmentation and validation split\n",
        "datagen = ImageDataGenerator(\n",
        "    preprocessing_function=preprocess_input, # Optional: Use a preprocessing function if needed (e.g., for pre-trained models)\n",
        "    validation_split=0.2,\n",
        "    horizontal_flip=True, # Example augmentation\n",
        "    rotation_range=20 # Example augmentation\n",
        ")\n",
        "\n",
        "# Create training and validation data generators\n",
        "train_generator = datagen.flow_from_directory(\n",
        "    data_path,\n",
        "    target_size=imgs_size, # Use imgs_size as defined before\n",
        "    batch_size=batch_size, # Use batch_size as defined before\n",
        "    class_mode='categorical', # Use 'categorical' for one-hot encoding, or 'sparse' for integer labels\n",
        "    subset='training',\n",
        "    shuffle=True\n",
        ")\n",
        "\n",
        "val_generator = datagen.flow_from_directory(\n",
        "    data_path,\n",
        "    target_size=imgs_size, # Use imgs_size as defined before\n",
        "    batch_size=batch_size, # Use batch_size as defined before\n",
        "    class_mode='categorical', # Use 'categorical' for one-hot encoding, or 'sparse' for integer labels\n",
        "    subset='validation',\n",
        "    shuffle=False\n",
        ")\n",
        "\n",
        "# Get the number of classes\n",
        "num_classes = train_generator.num_classes\n",
        "print(f\"✅ Detected {num_classes} classes\")"
      ],
      "execution_count": null,
      "outputs": []
    }
  ]
}