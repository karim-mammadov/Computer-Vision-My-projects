{
  "cells": [
    {
      "cell_type": "markdown",
      "metadata": {
        "id": "view-in-github",
        "colab_type": "text"
      },
      "source": [
        "<a href=\"https://colab.research.google.com/github/karim-mammadov/Computer-Vision-My-projects/blob/main/Celebrity_Face_Image_Dataset.ipynb\" target=\"_parent\"><img src=\"https://colab.research.google.com/assets/colab-badge.svg\" alt=\"Open In Colab\"/></a>"
      ]
    },
    {
      "cell_type": "code",
      "execution_count": null,
      "metadata": {
        "id": "hvl_Gg1eWyJi"
      },
      "outputs": [],
      "source": [
        "from google.colab import files\n",
        "files.upload()"
      ]
    },
    {
      "cell_type": "code",
      "execution_count": null,
      "metadata": {
        "id": "mKndMWqiW5Mi"
      },
      "outputs": [],
      "source": [
        "!mkdir -p ~/.kaggle\n",
        "!cp kaggle.json ~/.kaggle/\n",
        "!chmod 600 ~/.kaggle/kaggle.json"
      ]
    },
    {
      "cell_type": "code",
      "execution_count": null,
      "metadata": {
        "id": "y15EJuA_XFiw"
      },
      "outputs": [],
      "source": [
        "!kaggle datasets download vishesh1412/celebrity-face-image-dataset"
      ]
    },
    {
      "cell_type": "code",
      "execution_count": null,
      "metadata": {
        "id": "FL1KPSI9XRaC"
      },
      "outputs": [],
      "source": [
        "import zipfile"
      ]
    },
    {
      "cell_type": "code",
      "execution_count": null,
      "metadata": {
        "id": "2t2RowBwXRWp"
      },
      "outputs": [],
      "source": [
        "with zipfile.ZipFile('/content/celebrity-face-image-dataset.zip', 'r') as zip_ref:\n",
        "    zip_ref.extractall()"
      ]
    },
    {
      "cell_type": "code",
      "execution_count": null,
      "metadata": {
        "id": "z8gjlPt0XTQH"
      },
      "outputs": [],
      "source": [
        "data_path=\"/content/Celebrity Faces Dataset\""
      ]
    },
    {
      "cell_type": "code",
      "execution_count": null,
      "metadata": {
        "id": "bbhUfbr7YO0f"
      },
      "outputs": [],
      "source": [
        "import tensorflow as tf"
      ]
    },
    {
      "cell_type": "code",
      "execution_count": null,
      "metadata": {
        "id": "dqcTsDw1XTMy"
      },
      "outputs": [],
      "source": [
        "train_data=tf.keras.preprocessing.image_dataset_from_directory(\n",
        "    data_path,\n",
        "    validation_split=0.2,\n",
        "    subset=\"training\",\n",
        "    seed=13,\n",
        "    image_size=(224,224),\n",
        "    batch_size=32,\n",
        "    label_mode='categorical'\n",
        ")\n",
        "\n",
        "valid_data=tf.keras.preprocessing.image_dataset_from_directory(\n",
        "    data_path,\n",
        "    validation_split=0.2,\n",
        "    subset=\"validation\",\n",
        "    seed=13,\n",
        "    image_size=(224,224),\n",
        "    batch_size=32,\n",
        "    label_mode='categorical'\n",
        ")"
      ]
    },
    {
      "cell_type": "code",
      "execution_count": null,
      "metadata": {
        "id": "a2lrCNZ0Z0Ny"
      },
      "outputs": [],
      "source": [
        "class_names=train_data.class_names\n",
        "print(len(class_names))"
      ]
    },
    {
      "cell_type": "code",
      "execution_count": null,
      "metadata": {
        "id": "TYhd1e3Baa7_"
      },
      "outputs": [],
      "source": [
        "for image,label in train_data.take(1):\n",
        "  for i in range(12):\n",
        "    print(class_names[tf.argmax(label[i])])"
      ]
    },
    {
      "cell_type": "code",
      "execution_count": null,
      "metadata": {
        "id": "t081E3MMYTTL"
      },
      "outputs": [],
      "source": [
        "import matplotlib.pyplot as plt\n",
        "plt.figure(figsize=(10,8))\n",
        "for image,label in train_data.take(1):\n",
        "  for i in range(12):\n",
        "    plt.subplot(3,4,i+1)\n",
        "    plt.imshow(image[i].numpy().astype(\"uint8\"))\n",
        "    plt.title(class_names[tf.argmax(label[i]).numpy()])\n",
        "    plt.axis(\"off\")"
      ]
    },
    {
      "cell_type": "code",
      "execution_count": null,
      "metadata": {
        "id": "c2U_ou9sYTPt"
      },
      "outputs": [],
      "source": [
        "model=tf.keras.Sequential([\n",
        "    tf.keras.layers.Rescaling(1./255),\n",
        "    tf.keras.layers.Conv2D(kernel_size=(5,5), filters=32, strides=2, activation='relu', kernel_initializer='he_normal'),\n",
        "    tf.keras.layers.MaxPooling2D(),\n",
        "    tf.keras.layers.Conv2D(kernel_size=(3,3), filters=64, strides=2, activation='relu',kernel_initializer='he_normal'),\n",
        "    tf.keras.layers.MaxPooling2D(),\n",
        "    tf.keras.layers.Conv2D(kernel_size=(3,3), filters=128, strides=2, activation='relu',kernel_initializer='he_normal'),\n",
        "    tf.keras.layers.MaxPooling2D(),\n",
        "    tf.keras.layers.Flatten(),\n",
        "    tf.keras.layers.Dense(units=256, activation='relu',kernel_initializer='he_normal'),\n",
        "    tf.keras.layers.BatchNormalization(),\n",
        "    tf.keras.layers.Dropout(0.5),\n",
        "    tf.keras.layers.Dense(units=128, activation='relu',kernel_initializer='he_normal'),\n",
        "    tf.keras.layers.Dropout(0.5),\n",
        "    tf.keras.layers.Dense(units=len(class_names), activation='softmax')\n",
        "\n",
        "])"
      ]
    },
    {
      "cell_type": "code",
      "execution_count": null,
      "metadata": {
        "id": "xwHwzUP4YTNV"
      },
      "outputs": [],
      "source": [
        "model.compile(\n",
        "    loss=tf.keras.losses.CategoricalCrossentropy(),\n",
        "    optimizer=tf.keras.optimizers.Adam(),\n",
        "    metrics=['accuracy']\n",
        ")"
      ]
    },
    {
      "cell_type": "code",
      "execution_count": null,
      "metadata": {
        "colab": {
          "background_save": true
        },
        "collapsed": true,
        "id": "FvJ4yGrwbLJq"
      },
      "outputs": [],
      "source": [
        "model.fit(train_data, epochs=50, validation_data=valid_data)"
      ]
    },
    {
      "cell_type": "code",
      "execution_count": null,
      "metadata": {
        "colab": {
          "background_save": true
        },
        "id": "rLSDbDsBbLD7"
      },
      "outputs": [],
      "source": []
    },
    {
      "cell_type": "code",
      "execution_count": null,
      "metadata": {
        "colab": {
          "background_save": true
        },
        "id": "FGDWpHUybLBb"
      },
      "outputs": [],
      "source": []
    }
  ],
  "metadata": {
    "accelerator": "GPU",
    "colab": {
      "gpuType": "T4",
      "provenance": [],
      "authorship_tag": "ABX9TyOS6GxQ3ECVdYJWV0nxX+tr",
      "include_colab_link": true
    },
    "kernelspec": {
      "display_name": "Python 3",
      "name": "python3"
    },
    "language_info": {
      "name": "python"
    }
  },
  "nbformat": 4,
  "nbformat_minor": 0
}